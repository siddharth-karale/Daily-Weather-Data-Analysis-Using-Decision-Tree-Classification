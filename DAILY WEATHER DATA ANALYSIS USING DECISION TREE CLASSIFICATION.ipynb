{
 "cells": [
  {
   "cell_type": "code",
   "execution_count": 1,
   "id": "b73f06d5-2382-499e-991e-45767f0c549f",
   "metadata": {},
   "outputs": [],
   "source": [
    "#Importing the Necessary Libraries \n",
    "import pandas as pd \n",
    "from sklearn.metrics import accuracy_score \n",
    "from sklearn.model_selection import train_test_split \n",
    "from sklearn.tree import DecisionTreeClassifier "
   ]
  },
  {
   "cell_type": "code",
   "execution_count": 3,
   "id": "a0fadd89-02fa-4dcf-a811-07687231f7e7",
   "metadata": {},
   "outputs": [
    {
     "name": "stdout",
     "output_type": "stream",
     "text": [
      "Columns are:  Index(['number', 'air_pressure_9am', 'air_temp_9am', 'avg_wind_direction_9am',\n",
      "       'avg_wind_speed_9am', 'max_wind_direction_9am', 'max_wind_speed_9am',\n",
      "       'rain_accumulation_9am', 'rain_duration_9am', 'relative_humidity_9am',\n",
      "       'relative_humidity_3pm'],\n",
      "      dtype='object')\n"
     ]
    }
   ],
   "source": [
    "#Creating a Pandas DataFrame from a CSV file \n",
    "data = pd.read_csv(r\"K:\\DATA SCIENCE\\DataSets\\TopMentor Datasets\\data\\data_weather.csv\") \n",
    "print(\"Columns are: \",data.columns) "
   ]
  },
  {
   "cell_type": "code",
   "execution_count": 4,
   "id": "b716a6bd-8373-48b0-942d-4c527571b994",
   "metadata": {},
   "outputs": [
    {
     "name": "stdout",
     "output_type": "stream",
     "text": [
      "Data: \n",
      "       number  air_pressure_9am  air_temp_9am  avg_wind_direction_9am  \\\n",
      "0          0        918.060000     74.822000              271.100000   \n",
      "1          1        917.347688     71.403843              101.935179   \n",
      "2          2        923.040000     60.638000               51.000000   \n",
      "3          3        920.502751     70.138895              198.832133   \n",
      "4          4        921.160000     44.294000              277.800000   \n",
      "...      ...               ...           ...                     ...   \n",
      "1090    1090        918.900000     63.104000              192.900000   \n",
      "1091    1091        918.710000     49.568000              241.600000   \n",
      "1092    1092        916.600000     71.096000              189.300000   \n",
      "1093    1093        912.600000     58.406000              172.700000   \n",
      "1094    1094        921.530000     77.702000               97.100000   \n",
      "\n",
      "      avg_wind_speed_9am  max_wind_direction_9am  max_wind_speed_9am  \\\n",
      "0               2.080354              295.400000            2.863283   \n",
      "1               2.443009              140.471549            3.533324   \n",
      "2              17.067852               63.700000           22.100967   \n",
      "3               4.337363              211.203341            5.190045   \n",
      "4               1.856660              136.500000            2.863283   \n",
      "...                  ...                     ...                 ...   \n",
      "1090            3.869906              207.300000            5.212070   \n",
      "1091            1.811921              227.400000            2.371156   \n",
      "1092            3.064608              200.800000            3.892276   \n",
      "1093            3.825167              189.100000            4.764682   \n",
      "1094            3.265932              125.900000            4.451511   \n",
      "\n",
      "      rain_accumulation_9am  rain_duration_9am  relative_humidity_9am  \\\n",
      "0                       0.0                0.0              42.420000   \n",
      "1                       0.0                0.0              24.328697   \n",
      "2                       0.0               20.0               8.900000   \n",
      "3                       0.0                0.0              12.189102   \n",
      "4                       8.9            14730.0              92.410000   \n",
      "...                     ...                ...                    ...   \n",
      "1090                    0.0                0.0              26.020000   \n",
      "1091                    0.0                0.0              90.350000   \n",
      "1092                    0.0                0.0              45.590000   \n",
      "1093                    0.0                0.0              64.840000   \n",
      "1094                    0.0                0.0              14.560000   \n",
      "\n",
      "      relative_humidity_3pm  \n",
      "0                 36.160000  \n",
      "1                 19.426597  \n",
      "2                 14.460000  \n",
      "3                 12.742547  \n",
      "4                 76.740000  \n",
      "...                     ...  \n",
      "1090              38.180000  \n",
      "1091              73.340000  \n",
      "1092              52.310000  \n",
      "1093              58.280000  \n",
      "1094              15.100000  \n",
      "\n",
      "[1095 rows x 11 columns]\n"
     ]
    }
   ],
   "source": [
    "print(\"Data: \\n\",data) "
   ]
  },
  {
   "cell_type": "code",
   "execution_count": 5,
   "id": "3388661a-7586-4b25-8a2c-2c6c95282b34",
   "metadata": {},
   "outputs": [
    {
     "name": "stdout",
     "output_type": "stream",
     "text": [
      "Null Data: \n",
      "       number  air_pressure_9am  air_temp_9am  avg_wind_direction_9am  \\\n",
      "16        16        917.890000           NaN              169.200000   \n",
      "111      111        915.290000     58.820000              182.600000   \n",
      "177      177        915.900000           NaN              183.300000   \n",
      "262      262        923.596607     58.380598               47.737753   \n",
      "277      277        920.480000     62.600000              194.400000   \n",
      "334      334        916.230000     75.740000              149.100000   \n",
      "358      358        917.440000     58.514000               55.100000   \n",
      "361      361        920.444946     65.801845               49.823346   \n",
      "381      381        918.480000     66.542000               90.900000   \n",
      "409      409               NaN     67.853833               65.880616   \n",
      "517      517        920.570000     53.600000              100.100000   \n",
      "519      519        916.250000     55.670000              176.400000   \n",
      "546      546               NaN     42.746000              251.100000   \n",
      "620      620        921.200000     56.786000              192.300000   \n",
      "625      625        912.400000     50.774000              171.600000   \n",
      "656      656        920.830000     66.344000                     NaN   \n",
      "670      670        910.920000     48.362000              156.500000   \n",
      "672      672        922.448945     72.863773                     NaN   \n",
      "705      705        911.900000     59.072000              199.800000   \n",
      "731      731        922.970167     51.391847               33.810942   \n",
      "737      737        917.895130     76.804690              104.771020   \n",
      "788      788        917.923442     73.249717               42.101739   \n",
      "840      840        918.043767           NaN              181.774042   \n",
      "848      848        915.250000     37.562000              246.500000   \n",
      "861      861        919.065408           NaN              172.303728   \n",
      "869      869               NaN     45.104000              259.000000   \n",
      "998      998        914.140000     71.240000                     NaN   \n",
      "1031    1031        922.669195           NaN               47.946284   \n",
      "1035    1035        919.670000     77.576000              171.800000   \n",
      "1063    1063        917.300185     65.790001                     NaN   \n",
      "1066    1066        919.564869     73.726732               68.704694   \n",
      "\n",
      "      avg_wind_speed_9am  max_wind_direction_9am  max_wind_speed_9am  \\\n",
      "16              2.192201              196.800000            2.930391   \n",
      "111            15.613841              189.000000                 NaN   \n",
      "177             4.719943              189.900000            5.346287   \n",
      "262            10.636273               67.145843           13.671423   \n",
      "277             2.751436                     NaN            3.869906   \n",
      "334             2.751436              187.500000            4.183078   \n",
      "358            10.021491                     NaN           12.705819   \n",
      "361            21.520177               61.886944           25.549112   \n",
      "381             3.467257               89.400000            4.406772   \n",
      "409             4.328594               78.570923            5.216734   \n",
      "517             4.697574                     NaN            6.285801   \n",
      "519             6.666081              188.200000                 NaN   \n",
      "546            12.929513              274.400000           17.604718   \n",
      "620             9.551734              201.400000           11.005745   \n",
      "625                  NaN              181.400000            4.831790   \n",
      "656            15.457255              189.400000           16.486248   \n",
      "670                  NaN              177.500000           16.128337   \n",
      "672             3.682370              214.196160            4.849450   \n",
      "705             1.275056              239.500000            1.834291   \n",
      "731                  NaN               59.290089           11.111555   \n",
      "737             1.632705               97.178763                 NaN   \n",
      "788             4.132698               64.284969            5.345258   \n",
      "840             0.964376              185.618601            1.570007   \n",
      "848            11.587349              258.700000                 NaN   \n",
      "861             2.639600              193.058141            3.326949   \n",
      "869             3.265932              275.000000            4.026492   \n",
      "998             1.722444              232.900000            2.326418   \n",
      "1031            7.969686               65.770066           10.262337   \n",
      "1035            6.554234              191.000000            8.164831   \n",
      "1063            1.879553              222.498226            2.692862   \n",
      "1066            3.551777              102.571616            4.861315   \n",
      "\n",
      "      rain_accumulation_9am  rain_duration_9am  relative_humidity_9am  \\\n",
      "16                    0.000           0.000000              48.990000   \n",
      "111                   0.000           0.000000              21.500000   \n",
      "177                   0.000           0.000000              29.260000   \n",
      "262                   0.000                NaN              17.990876   \n",
      "277                   0.000           0.000000              52.580000   \n",
      "334                     NaN        1480.000000              31.880000   \n",
      "358                   0.000           0.000000              13.880000   \n",
      "361                     NaN          40.364018              12.278715   \n",
      "381                     NaN           0.000000              20.640000   \n",
      "409                   0.000           0.000000              18.487385   \n",
      "517                   4.712       14842.000000              79.880000   \n",
      "519                   0.000           0.000000              72.550000   \n",
      "546                  14.627        7825.000000              87.870000   \n",
      "620                     NaN           0.000000              59.790000   \n",
      "625                   0.000           0.000000              86.840000   \n",
      "656                   0.000           0.000000              23.770000   \n",
      "670                   4.970       10560.000000              80.560000   \n",
      "672                   0.000           0.000000              16.753670   \n",
      "705                     NaN           0.000000              77.630000   \n",
      "731                   0.000           4.735034              34.807753   \n",
      "737                   0.000           0.000000              13.771311   \n",
      "788                   0.000                NaN               6.939692   \n",
      "840                   0.000           0.000000              11.911222   \n",
      "848                   3.171        2891.000000              91.000000   \n",
      "861                   0.000           0.000000              12.497839   \n",
      "869                   0.000          80.000000              85.270000   \n",
      "998                   0.000           0.000000              24.200000   \n",
      "1031                  0.000           0.000000              18.920805   \n",
      "1035                  0.000                NaN              56.860000   \n",
      "1063                  0.000           0.000000              14.972668   \n",
      "1066                    NaN           0.000000              11.657314   \n",
      "\n",
      "      relative_humidity_3pm  \n",
      "16                51.190000  \n",
      "111               29.690000  \n",
      "177               46.500000  \n",
      "262               16.461685  \n",
      "277               54.030000  \n",
      "334               32.900000  \n",
      "358               25.930000  \n",
      "361                7.618649  \n",
      "381               14.350000  \n",
      "409               20.356594  \n",
      "517               84.530000  \n",
      "519               74.390000  \n",
      "546               70.770000  \n",
      "620               77.750000  \n",
      "625               64.740000  \n",
      "656               51.630000  \n",
      "670               88.220000  \n",
      "672               17.804720  \n",
      "705               59.130000  \n",
      "731               18.418179  \n",
      "737               16.792455  \n",
      "788               18.793825  \n",
      "840               18.154358  \n",
      "848               90.780000  \n",
      "861               13.438518  \n",
      "869               90.260000  \n",
      "998               41.380000  \n",
      "1031              19.641841  \n",
      "1035              50.650000  \n",
      "1063              20.966267  \n",
      "1066              17.331823  \n"
     ]
    }
   ],
   "source": [
    "print(\"Null Data: \\n\",data[data.isnull().any(axis=1)]) "
   ]
  },
  {
   "cell_type": "markdown",
   "id": "669c7d5f-0fc0-4a5b-82e0-58fd1bbff763",
   "metadata": {},
   "source": [
    "## Daily Weather Data Description"
   ]
  },
  {
   "cell_type": "markdown",
   "id": "ba943dad-d3d2-44dc-b5e4-0dbcf7ecd0e1",
   "metadata": {},
   "source": [
    "The file daily_weather.csv is a comma-separated file that contains weather data. This data comes from a \r\n",
    "weather station. The weather station is equipped with sensors that capture weather-related measurements \r\n",
    "such as air temperature, air pressure, and relative humidity. Data was collected for a period of three years, \r\n",
    "from September 2011 to September 2014, to ensure that sufficient data for different seasons and weather \r\n",
    "conditions is captured. "
   ]
  },
  {
   "cell_type": "markdown",
   "id": "b26b071c-a60b-4e9f-9778-7a27e0b06ae2",
   "metadata": {},
   "source": [
    "Let us now check all the columns in the data. \n",
    "* Each row in daily_weather.csv captures weather data for a separate day.\n",
    "* Sensor measurements from the weather station were captured at one-minute intervals. These \n",
    "measurements were then processed to generate values to describe daily weather. Since this dataset\r\n",
    "was created to classify low-humidity days vs. non-low-humidity days (that is, days with normal or \r\n",
    "high humidity), the variables included are weather measurements in the morning, with  e \r\n",
    "measurement, namely relatively humidity, in the afternoon. The idea is to use the morning weater \r\n",
    "values to predict whether the day will be low-humidity or not based on the afternoon measureent \r\n",
    "of relhtive humidity. "
   ]
  },
  {
   "cell_type": "markdown",
   "id": "c0d4ce6a-7876-4338-b509-97a1cc416676",
   "metadata": {},
   "source": [
    "### Each row, or sample, consists of the following variables:"
   ]
  },
  {
   "cell_type": "markdown",
   "id": "5a98c919-7fcb-418e-a38f-8d8d67a7d7a4",
   "metadata": {},
   "source": [
    "* number: unique number for each row\n",
    "* air_pressure_9am: air pressure averaged over a period from 8:55am to 9:04am (Unit: \n",
    "hectopascals\n",
    "* air_temp_9am: air temperature averaged over a period from 8:55am to 9:04am (Unit: \n",
    "degrees Fahrenheit\n",
    "* air_wind_direction_9am: wind direction averaged over a period from 8:55am to 9:04am \n",
    "(Unit: degrees, with 0 means coming from the North, and increasing clockwis\n",
    "* air_wind_speed_9am: wind speed averaged over a period from 8:55am to 9:04am (Unit: \n",
    "miles per hour\n",
    "* max_wind_direction_9am: wind gust direction averaged over a period from 8:55am to \n",
    "9:10am (Unit: degrees, with 0 being North and increasing clockwis*\n",
    "* max_wind_speed_9am: wind gust speed averaged over a period from 8:55am to 9:04am \n",
    "(Unit: miles per hour\n",
    "* rain_accumulation_9am: amount of rain accumulated in the 24 hours prior to 9am (Unit: \n",
    "millimeters\n",
    "* rain_duration_9am: amount of time rain was recorded in the 24 hours prior to 9am (Unit: \n",
    "seconds\n",
    "* relative_humidity_9am: relative humidity averaged over a period from 8:55am to 9:04am \n",
    "(Unit: percent\n",
    "* relative_humidity_3pm: relative humidity averaged over a period from 2:55pm to 3:04pm \n",
    "*Unit: percen*))))) ))))"
   ]
  },
  {
   "cell_type": "code",
   "execution_count": 6,
   "id": "6c2bf401-56fe-4766-a093-34992c12cdbe",
   "metadata": {},
   "outputs": [
    {
     "name": "stdout",
     "output_type": "stream",
     "text": [
      "1095\n",
      "1064\n",
      "Total rows dropped:  31\n"
     ]
    }
   ],
   "source": [
    "#Data Cleaning Steps \n",
    "#We will not need the \"number\" column for each row so we can clean it. \n",
    "del data['number'] \n",
    "#Let us drop null values using the pandas dropna function. \n",
    "before_rows = data.shape[0] \n",
    "print(before_rows) \n",
    "data = data.dropna() \n",
    "after_rows = data.shape[0] \n",
    "print(after_rows) \n",
    "#How many rows dropped due to cleaning? \n",
    "print(\"Total rows dropped: \",before_rows - after_rows)"
   ]
  },
  {
   "cell_type": "markdown",
   "id": "f840db1e-c2e6-47a3-8120-3dedbea33c3f",
   "metadata": {},
   "source": [
    "#Convert to a Classification Task \n",
    "#Binarize the relative_humidity_3pm to 0 or 1. \n",
    "clean_data = data.copy() \n",
    "clean_data['high_humidity_label'] = (clean_data['relative_humidity_3pm'] > 24.99)*1 \n",
    "print(clean_data['high_humidity_label']) "
   ]
  },
  {
   "cell_type": "code",
   "execution_count": 9,
   "id": "e3507601-85f7-4370-9488-fbe31b6403c7",
   "metadata": {},
   "outputs": [
    {
     "name": "stdout",
     "output_type": "stream",
     "text": [
      "Y Data: \n",
      "    high_humidity_label\n",
      "0                    1\n",
      "1                    0\n",
      "2                    0\n",
      "3                    0\n",
      "4                    1\n"
     ]
    }
   ],
   "source": [
    "#Target is stored in 'y'. \n",
    "y=clean_data[['high_humidity_label']].copy() \n",
    "clean_data['relative_humidity_3pm'].head() \n",
    "print(\"Y Data: \\n\",y.head())"
   ]
  },
  {
   "cell_type": "markdown",
   "id": "38da7852-1318-4fb1-98e8-bbe272dbc73b",
   "metadata": {},
   "source": [
    "## Use 9am Sensor Signals as Features to Predict Humidity at 3pm"
   ]
  },
  {
   "cell_type": "code",
   "execution_count": 12,
   "id": "976b2d55-9b4a-43b3-817f-02a1f4ae525b",
   "metadata": {},
   "outputs": [
    {
     "name": "stdout",
     "output_type": "stream",
     "text": [
      "Columns in X:  Index(['air_pressure_9am', 'air_temp_9am', 'avg_wind_direction_9am',\n",
      "       'avg_wind_speed_9am', 'max_wind_direction_9am', 'max_wind_speed_9am',\n",
      "       'rain_accumulation_9am', 'rain_duration_9am'],\n",
      "      dtype='object')\n",
      "Columns in Y:  Index(['high_humidity_label'], dtype='object')\n"
     ]
    }
   ],
   "source": [
    "#Use 9am Sensor Signals as Features to Predict Humidity at 3pm \n",
    "morning_features = ['air_pressure_9am','air_temp_9am','avg_wind_direction_9am','avg_wind_speed_9am','max_wind_direction_9am','max_wind_speed_9am','rain_accumulation_9am', \n",
    "        'rain_duration_9am'] \n",
    " \n",
    "X = clean_data[morning_features].copy() \n",
    "print(\"Columns in X: \",X.columns) \n",
    "print(\"Columns in Y: \",y.columns) "
   ]
  },
  {
   "cell_type": "markdown",
   "id": "68465dfb-18d5-4f32-bc40-a4595449f2ac",
   "metadata": {},
   "source": [
    "## Perform Test and Train split "
   ]
  },
  {
   "cell_type": "markdown",
   "id": "1e41f1dc-b491-4c02-b55a-6de8da0166a2",
   "metadata": {},
   "source": [
    "* In the training phase, the learning algorithm uses the training data to adjust the model’s parameters \n",
    "to minimize errors. At the end of the training phase, we get the trained model\n",
    "* In the testing phase, the trained model is applied to test data. Test data is separate from the training \n",
    "data, and is previously unseen by the model. The model is then evaluated on how it performs on the\r\n",
    "test data. The goal in building a classifier model is to have the model perform well on training as wel \r\n",
    "as test data. ."
   ]
  },
  {
   "cell_type": "code",
   "execution_count": 13,
   "id": "198ac185-a6ed-446e-af39-36b30bd845bf",
   "metadata": {},
   "outputs": [
    {
     "name": "stdout",
     "output_type": "stream",
     "text": [
      "X_train is as under:\n",
      "     air_pressure_9am  air_temp_9am  avg_wind_direction_9am  \\\n",
      "841        918.370000     72.932000              184.500000   \n",
      "75         920.100000     53.492000              186.100000   \n",
      "95         927.610000     54.896000               55.000000   \n",
      "895        919.235153     65.951112              194.343333   \n",
      "699        919.888128     68.687822              228.517730   \n",
      "\n",
      "     avg_wind_speed_9am  max_wind_direction_9am  max_wind_speed_9am  \\\n",
      "841            2.013246              186.700000            2.773806   \n",
      "75            13.444009              193.800000           15.367778   \n",
      "95             4.988376               53.400000            7.202947   \n",
      "895            2.942019              216.569792            3.658810   \n",
      "699            3.960858              247.954028            5.185547   \n",
      "\n",
      "     rain_accumulation_9am  rain_duration_9am  \n",
      "841                    0.0                0.0  \n",
      "75                     0.0                0.0  \n",
      "95                     0.0                0.0  \n",
      "895                    0.0                0.0  \n",
      "699                    0.0                0.0  \n",
      "X_test is as under:\n",
      "     air_pressure_9am  air_temp_9am  avg_wind_direction_9am  \\\n",
      "456        918.800000     80.384000              189.600000   \n",
      "845        921.613372     68.658973               70.703555   \n",
      "693        917.900000     76.802000              154.100000   \n",
      "259        914.830000     74.570000              175.500000   \n",
      "723        917.010000     51.836000              130.200000   \n",
      "\n",
      "     avg_wind_speed_9am  max_wind_direction_9am  max_wind_speed_9am  \\\n",
      "456            1.767183               80.300000            2.773806   \n",
      "845            2.248932               96.844701            3.043049   \n",
      "693            2.550112              199.400000            3.400149   \n",
      "259            1.409272              153.800000            2.236940   \n",
      "723            1.610597              159.900000            2.348787   \n",
      "\n",
      "     rain_accumulation_9am  rain_duration_9am  \n",
      "456                    0.0                0.0  \n",
      "845                    0.0                0.0  \n",
      "693                    0.0                0.0  \n",
      "259                    0.0                0.0  \n",
      "723                    0.0                0.0  \n",
      "y_train is as under:\n",
      "     high_humidity_label\n",
      "841                    0\n",
      "75                     1\n",
      "95                     0\n",
      "895                    0\n",
      "699                    0\n",
      "y_test is as under:\n",
      "     high_humidity_label\n",
      "456                    0\n",
      "845                    0\n",
      "693                    1\n",
      "259                    1\n",
      "723                    1\n"
     ]
    }
   ],
   "source": [
    "#Perform Test and Train split \n",
    "X_train, X_test, y_train, y_test = train_test_split(X, y, test_size=0.33, random_state=324) \n",
    "print (\"X_train is as under:\") \n",
    "print(X_train.head()) \n",
    "print (\"X_test is as under:\") \n",
    "print(X_test.head()) \n",
    "print (\"y_train is as under:\") \n",
    "print(y_train.head()) \n",
    "print (\"y_test is as under:\") \n",
    "print(y_test.head())"
   ]
  },
  {
   "cell_type": "code",
   "execution_count": 14,
   "id": "43b5c8b2-73f2-4287-b709-b30309863ce9",
   "metadata": {},
   "outputs": [
    {
     "name": "stdout",
     "output_type": "stream",
     "text": [
      "Let us describe y_train\n"
     ]
    },
    {
     "data": {
      "text/html": [
       "<div>\n",
       "<style scoped>\n",
       "    .dataframe tbody tr th:only-of-type {\n",
       "        vertical-align: middle;\n",
       "    }\n",
       "\n",
       "    .dataframe tbody tr th {\n",
       "        vertical-align: top;\n",
       "    }\n",
       "\n",
       "    .dataframe thead th {\n",
       "        text-align: right;\n",
       "    }\n",
       "</style>\n",
       "<table border=\"1\" class=\"dataframe\">\n",
       "  <thead>\n",
       "    <tr style=\"text-align: right;\">\n",
       "      <th></th>\n",
       "      <th>high_humidity_label</th>\n",
       "    </tr>\n",
       "  </thead>\n",
       "  <tbody>\n",
       "    <tr>\n",
       "      <th>count</th>\n",
       "      <td>712.000000</td>\n",
       "    </tr>\n",
       "    <tr>\n",
       "      <th>mean</th>\n",
       "      <td>0.494382</td>\n",
       "    </tr>\n",
       "    <tr>\n",
       "      <th>std</th>\n",
       "      <td>0.500320</td>\n",
       "    </tr>\n",
       "    <tr>\n",
       "      <th>min</th>\n",
       "      <td>0.000000</td>\n",
       "    </tr>\n",
       "    <tr>\n",
       "      <th>25%</th>\n",
       "      <td>0.000000</td>\n",
       "    </tr>\n",
       "    <tr>\n",
       "      <th>50%</th>\n",
       "      <td>0.000000</td>\n",
       "    </tr>\n",
       "    <tr>\n",
       "      <th>75%</th>\n",
       "      <td>1.000000</td>\n",
       "    </tr>\n",
       "    <tr>\n",
       "      <th>max</th>\n",
       "      <td>1.000000</td>\n",
       "    </tr>\n",
       "  </tbody>\n",
       "</table>\n",
       "</div>"
      ],
      "text/plain": [
       "       high_humidity_label\n",
       "count           712.000000\n",
       "mean              0.494382\n",
       "std               0.500320\n",
       "min               0.000000\n",
       "25%               0.000000\n",
       "50%               0.000000\n",
       "75%               1.000000\n",
       "max               1.000000"
      ]
     },
     "execution_count": 14,
     "metadata": {},
     "output_type": "execute_result"
    }
   ],
   "source": [
    "print (\"Let us describe y_train\") \n",
    "y_train.describe()"
   ]
  },
  {
   "cell_type": "code",
   "execution_count": 15,
   "id": "5f291ab7-9336-48fd-bf6f-307058f69bf7",
   "metadata": {},
   "outputs": [
    {
     "data": {
      "text/plain": [
       "sklearn.tree._classes.DecisionTreeClassifier"
      ]
     },
     "execution_count": 15,
     "metadata": {},
     "output_type": "execute_result"
    }
   ],
   "source": [
    "#Fit on Train Set \n",
    "humidity_classifier = DecisionTreeClassifier(max_leaf_nodes=10, random_state=0) \n",
    "humidity_classifier.fit(X_train, y_train) \n",
    "type(humidity_classifier) "
   ]
  },
  {
   "cell_type": "markdown",
   "id": "7175ad91-601f-496d-ba0d-00209106cc80",
   "metadata": {},
   "source": [
    "## Predict on Test Set "
   ]
  },
  {
   "cell_type": "code",
   "execution_count": 16,
   "id": "0b16833d-b80a-433a-a74d-989b289ed85e",
   "metadata": {},
   "outputs": [
    {
     "name": "stdout",
     "output_type": "stream",
     "text": [
      "Sample Predictions: \n",
      " [0 0 1 1 1 1 0 0 0 1]\n",
      "Sample Y Test(Actual Data): \n",
      " 456     0\n",
      "845     0\n",
      "693     1\n",
      "259     1\n",
      "723     1\n",
      "224     1\n",
      "300     1\n",
      "442     0\n",
      "585     1\n",
      "1057    1\n",
      "Name: high_humidity_label, dtype: int32\n",
      "Accuracy: \n",
      " 0.8153409090909091\n"
     ]
    }
   ],
   "source": [
    "#Predict on Test Set \n",
    "predictions = humidity_classifier.predict(X_test) \n",
    "print(\"Sample Predictions: \\n\",predictions[:10]) \n",
    "print(\"Sample Y Test(Actual Data): \\n\",y_test['high_humidity_label'][:10]) \n",
    "#Measure Accuracy of the Classifier \n",
    "print(\"Accuracy: \\n\",accuracy_score(y_true = y_test, y_pred = \n",
    "predictions)) "
   ]
  },
  {
   "cell_type": "code",
   "execution_count": null,
   "id": "f5f5af96-d932-4bdf-a9c7-24c4ec3b20a9",
   "metadata": {},
   "outputs": [],
   "source": []
  }
 ],
 "metadata": {
  "kernelspec": {
   "display_name": "Python 3 (ipykernel)",
   "language": "python",
   "name": "python3"
  },
  "language_info": {
   "codemirror_mode": {
    "name": "ipython",
    "version": 3
   },
   "file_extension": ".py",
   "mimetype": "text/x-python",
   "name": "python",
   "nbconvert_exporter": "python",
   "pygments_lexer": "ipython3",
   "version": "3.9.18"
  }
 },
 "nbformat": 4,
 "nbformat_minor": 5
}
